{
 "cells": [
  {
   "cell_type": "code",
   "execution_count": 2,
   "metadata": {},
   "outputs": [],
   "source": [
    "import pandas as pd"
   ]
  },
  {
   "cell_type": "markdown",
   "metadata": {},
   "source": [
    "# Stand 20.01.2024"
   ]
  },
  {
   "cell_type": "markdown",
   "metadata": {},
   "source": [
    "### Data\n",
    "- annotated 1000 documents to get more valid results \n",
    "- also: in earlier batch, a lot of documents had similar if not same entities -> new batch from snapADDY"
   ]
  },
  {
   "cell_type": "markdown",
   "metadata": {},
   "source": [
    "### Comparison of annotation \n",
    "- snapADDY made resource available for annotating 200 of these 1000 documents from another annotator\n",
    "- I annotated the same 200 documents \n",
    "- comparison via jaccard similarity"
   ]
  },
  {
   "cell_type": "code",
   "execution_count": 12,
   "metadata": {},
   "outputs": [
    {
     "data": {
      "text/html": [
       "<div>\n",
       "<style scoped>\n",
       "    .dataframe tbody tr th:only-of-type {\n",
       "        vertical-align: middle;\n",
       "    }\n",
       "\n",
       "    .dataframe tbody tr th {\n",
       "        vertical-align: top;\n",
       "    }\n",
       "\n",
       "    .dataframe thead th {\n",
       "        text-align: right;\n",
       "    }\n",
       "</style>\n",
       "<table border=\"1\" class=\"dataframe\">\n",
       "  <thead>\n",
       "    <tr style=\"text-align: right;\">\n",
       "      <th></th>\n",
       "      <th>0</th>\n",
       "    </tr>\n",
       "  </thead>\n",
       "  <tbody>\n",
       "    <tr>\n",
       "      <th>Jaccard Similarity</th>\n",
       "      <td>0.797823</td>\n",
       "    </tr>\n",
       "  </tbody>\n",
       "</table>\n",
       "</div>"
      ],
      "text/plain": [
       "                           0\n",
       "Jaccard Similarity  0.797823"
      ]
     },
     "execution_count": 12,
     "metadata": {},
     "output_type": "execute_result"
    }
   ],
   "source": [
    "path_results_comparison = \"/home/teppi/projects/master/results/jaccard_similarity.json\"\n",
    "\n",
    "df_comparison = pd.read_json(path_results_comparison, orient=\"index\")\n",
    "\n",
    "df_comparison"
   ]
  },
  {
   "cell_type": "markdown",
   "metadata": {},
   "source": [
    "# Experiments\n"
   ]
  },
  {
   "cell_type": "markdown",
   "metadata": {},
   "source": [
    "### Experiment1: detailed annotation \n",
    "- finegrained annotation was used at first to see what results can be achieved \n",
    "- as a reminder, these are the entities: \n",
    "    - general: DATE, HRA/HRB, DOCUMENT_NUMBER, LOCATION (if it is not clearly connected to one other entity)\n",
    "    - regarding someone involved with the company: NAME, NAME_STREET, NAME_POSTAL_CODE, NAME_LOCATION, BIRTH_DATE\n",
    "    - regarding the mentioned company: COMPANY, COMPANY_STREET, COMPANY_POSTAL_CODE, COMPANY_LOCATION\n",
    "    - regarding the mentioned court: COURT, COURT_STREET, COURT_POSTAL_CODE, COURT_LOCATION\n",
    "    - regarding mentioned notary: NOTARY, NOTARY_STREET, NOTARY_POSTAL_CODE, NOTARY_LOCATION  \n"
   ]
  },
  {
   "cell_type": "markdown",
   "metadata": {},
   "source": [
    "#### Tests\n",
    "- 5 tests were carried out: \n",
    "    - 1_without_eval: Training a blank German LM without an evaluation dataset. \n",
    "    - 1_finetuned: Training on de_core_news_lg LM without an evaluation dataset. \n",
    "    - 2_with_eval: Training on a blank German LM with an evaluation dataset. \n",
    "    - 2_finetuned: Training on de_core_news_lg LM with an evaluation dataset. \n",
    "    - transformers: Training with the help of Transformers. "
   ]
  },
  {
   "cell_type": "code",
   "execution_count": 13,
   "metadata": {},
   "outputs": [
    {
     "data": {
      "text/html": [
       "<div>\n",
       "<style scoped>\n",
       "    .dataframe tbody tr th:only-of-type {\n",
       "        vertical-align: middle;\n",
       "    }\n",
       "\n",
       "    .dataframe tbody tr th {\n",
       "        vertical-align: top;\n",
       "    }\n",
       "\n",
       "    .dataframe thead th {\n",
       "        text-align: right;\n",
       "    }\n",
       "</style>\n",
       "<table border=\"1\" class=\"dataframe\">\n",
       "  <thead>\n",
       "    <tr style=\"text-align: right;\">\n",
       "      <th></th>\n",
       "      <th>File</th>\n",
       "      <th>Precision</th>\n",
       "      <th>Recall</th>\n",
       "      <th>F1 score</th>\n",
       "    </tr>\n",
       "  </thead>\n",
       "  <tbody>\n",
       "    <tr>\n",
       "      <th>0</th>\n",
       "      <td>1_without_eval.json</td>\n",
       "      <td>0.815978</td>\n",
       "      <td>0.815247</td>\n",
       "      <td>0.815612</td>\n",
       "    </tr>\n",
       "    <tr>\n",
       "      <th>1</th>\n",
       "      <td>1_finetuned.json</td>\n",
       "      <td>0.814679</td>\n",
       "      <td>0.796413</td>\n",
       "      <td>0.805442</td>\n",
       "    </tr>\n",
       "    <tr>\n",
       "      <th>2</th>\n",
       "      <td>2_with_eval.json</td>\n",
       "      <td>0.834796</td>\n",
       "      <td>0.824813</td>\n",
       "      <td>0.829774</td>\n",
       "    </tr>\n",
       "    <tr>\n",
       "      <th>3</th>\n",
       "      <td>2_finetuned.json</td>\n",
       "      <td>0.810992</td>\n",
       "      <td>0.794021</td>\n",
       "      <td>0.802417</td>\n",
       "    </tr>\n",
       "    <tr>\n",
       "      <th>4</th>\n",
       "      <td>transformers.json</td>\n",
       "      <td>0.830873</td>\n",
       "      <td>0.807773</td>\n",
       "      <td>0.819160</td>\n",
       "    </tr>\n",
       "  </tbody>\n",
       "</table>\n",
       "</div>"
      ],
      "text/plain": [
       "                  File  Precision    Recall  F1 score\n",
       "0  1_without_eval.json   0.815978  0.815247  0.815612\n",
       "1     1_finetuned.json   0.814679  0.796413  0.805442\n",
       "2     2_with_eval.json   0.834796  0.824813  0.829774\n",
       "3     2_finetuned.json   0.810992  0.794021  0.802417\n",
       "4    transformers.json   0.830873  0.807773  0.819160"
      ]
     },
     "execution_count": 13,
     "metadata": {},
     "output_type": "execute_result"
    }
   ],
   "source": [
    "path_results_experiment1 = \"/home/teppi/projects/master/results/experiment1_detailed_annotation/all_results.csv\"\n",
    "df1 = pd.read_csv(path_results_experiment1)\n",
    "df1\n"
   ]
  },
  {
   "cell_type": "markdown",
   "metadata": {},
   "source": [
    "### Experiment2: broader annotation\n",
    "- it was iterated over the annotated documents and entities were changed to a more general approach: \n",
    "    - NOTARY_LOCATION, NAME_LOCATION, COURT_LOCATION, COMPANY_LOCATION --> LOCATION\n",
    "    - NOTARY_STREET, NAME_STREET, COURT_STREET, COMPANY_STREET --> STREET\n",
    "    - NOTARY_POSTAL_CODE, NAME_POSTAL_CODE, COURT_POSTAL_CODE, COMPANY_POSTAL_CODE --> POSTAL_CODE\n",
    "    - BIRTH_DATE, DATE --> DATE"
   ]
  },
  {
   "cell_type": "code",
   "execution_count": 14,
   "metadata": {},
   "outputs": [
    {
     "data": {
      "text/html": [
       "<div>\n",
       "<style scoped>\n",
       "    .dataframe tbody tr th:only-of-type {\n",
       "        vertical-align: middle;\n",
       "    }\n",
       "\n",
       "    .dataframe tbody tr th {\n",
       "        vertical-align: top;\n",
       "    }\n",
       "\n",
       "    .dataframe thead th {\n",
       "        text-align: right;\n",
       "    }\n",
       "</style>\n",
       "<table border=\"1\" class=\"dataframe\">\n",
       "  <thead>\n",
       "    <tr style=\"text-align: right;\">\n",
       "      <th></th>\n",
       "      <th>File</th>\n",
       "      <th>Precision</th>\n",
       "      <th>Recall</th>\n",
       "      <th>F1 score</th>\n",
       "    </tr>\n",
       "  </thead>\n",
       "  <tbody>\n",
       "    <tr>\n",
       "      <th>0</th>\n",
       "      <td>1_without_eval.json</td>\n",
       "      <td>0.913270</td>\n",
       "      <td>0.890882</td>\n",
       "      <td>0.901937</td>\n",
       "    </tr>\n",
       "    <tr>\n",
       "      <th>1</th>\n",
       "      <td>1_finetuned.json</td>\n",
       "      <td>0.888584</td>\n",
       "      <td>0.870254</td>\n",
       "      <td>0.879323</td>\n",
       "    </tr>\n",
       "    <tr>\n",
       "      <th>2</th>\n",
       "      <td>2_with_eval.json</td>\n",
       "      <td>0.915411</td>\n",
       "      <td>0.889686</td>\n",
       "      <td>0.902365</td>\n",
       "    </tr>\n",
       "    <tr>\n",
       "      <th>3</th>\n",
       "      <td>2_finetuned.json</td>\n",
       "      <td>0.876588</td>\n",
       "      <td>0.866368</td>\n",
       "      <td>0.871448</td>\n",
       "    </tr>\n",
       "    <tr>\n",
       "      <th>4</th>\n",
       "      <td>transformers.json</td>\n",
       "      <td>0.906806</td>\n",
       "      <td>0.884305</td>\n",
       "      <td>0.895414</td>\n",
       "    </tr>\n",
       "  </tbody>\n",
       "</table>\n",
       "</div>"
      ],
      "text/plain": [
       "                  File  Precision    Recall  F1 score\n",
       "0  1_without_eval.json   0.913270  0.890882  0.901937\n",
       "1     1_finetuned.json   0.888584  0.870254  0.879323\n",
       "2     2_with_eval.json   0.915411  0.889686  0.902365\n",
       "3     2_finetuned.json   0.876588  0.866368  0.871448\n",
       "4    transformers.json   0.906806  0.884305  0.895414"
      ]
     },
     "execution_count": 14,
     "metadata": {},
     "output_type": "execute_result"
    }
   ],
   "source": [
    "path_results_experiment2 = \"/home/teppi/projects/master/results/experiment2_broader_annotation/all_results.csv\"\n",
    "df2 = pd.read_csv(path_results_experiment2)\n",
    "df2"
   ]
  },
  {
   "cell_type": "markdown",
   "metadata": {},
   "source": [
    "/home/teppi/projects/master/.venv/lib/python3.11/site-packages/spacy/training/iob_utils.py:149: UserWarning: [W030] Some entities could not be aligned in the text \"Amtsgericht Ulm - Registergericht - Olgastraße 106...\" with entities \"[[0, 15, 'COURT'], [36, 50, 'COURT_STREET'], [51, ...\". Use `spacy.training.offsets_to_biluo_tags(nlp.make_doc(text), entities)` to check the alignment. Misaligned entities ('-') will be ignored during training."
   ]
  },
  {
   "cell_type": "markdown",
   "metadata": {},
   "source": [
    "### Error Analysis\n",
    "- some entities throw the error **UserWarning: [W030] Some entities could not be aligned in the text**\n",
    "- build a script to see how many entities are affected"
   ]
  },
  {
   "cell_type": "code",
   "execution_count": 17,
   "metadata": {},
   "outputs": [
    {
     "data": {
      "text/html": [
       "<div>\n",
       "<style scoped>\n",
       "    .dataframe tbody tr th:only-of-type {\n",
       "        vertical-align: middle;\n",
       "    }\n",
       "\n",
       "    .dataframe tbody tr th {\n",
       "        vertical-align: top;\n",
       "    }\n",
       "\n",
       "    .dataframe thead th {\n",
       "        text-align: right;\n",
       "    }\n",
       "</style>\n",
       "<table border=\"1\" class=\"dataframe\">\n",
       "  <thead>\n",
       "    <tr style=\"text-align: right;\">\n",
       "      <th></th>\n",
       "      <th>warning</th>\n",
       "      <th>entities</th>\n",
       "      <th>error_percentage</th>\n",
       "    </tr>\n",
       "  </thead>\n",
       "  <tbody>\n",
       "    <tr>\n",
       "      <th>count_train</th>\n",
       "      <td>259</td>\n",
       "      <td>11971</td>\n",
       "      <td>2.163562</td>\n",
       "    </tr>\n",
       "    <tr>\n",
       "      <th>count_test</th>\n",
       "      <td>74</td>\n",
       "      <td>3445</td>\n",
       "      <td>2.148041</td>\n",
       "    </tr>\n",
       "    <tr>\n",
       "      <th>count_eval</th>\n",
       "      <td>30</td>\n",
       "      <td>1639</td>\n",
       "      <td>1.830384</td>\n",
       "    </tr>\n",
       "  </tbody>\n",
       "</table>\n",
       "</div>"
      ],
      "text/plain": [
       "             warning  entities  error_percentage\n",
       "count_train      259     11971          2.163562\n",
       "count_test        74      3445          2.148041\n",
       "count_eval        30      1639          1.830384"
      ]
     },
     "execution_count": 17,
     "metadata": {},
     "output_type": "execute_result"
    }
   ],
   "source": [
    "path_error = \"/home/teppi/projects/master/results/error_analysis.json\"\n",
    "df3 = pd.read_json(path_error, orient=\"index\")\n",
    "df3"
   ]
  },
  {
   "cell_type": "markdown",
   "metadata": {},
   "source": [
    "# TODO\n",
    "- Write code more cleaner\n",
    "- start writing thesis"
   ]
  },
  {
   "cell_type": "markdown",
   "metadata": {},
   "source": [
    "# Wish\n",
    "- find something cool to do"
   ]
  }
 ],
 "metadata": {
  "kernelspec": {
   "display_name": ".venv",
   "language": "python",
   "name": "python3"
  },
  "language_info": {
   "codemirror_mode": {
    "name": "ipython",
    "version": 3
   },
   "file_extension": ".py",
   "mimetype": "text/x-python",
   "name": "python",
   "nbconvert_exporter": "python",
   "pygments_lexer": "ipython3",
   "version": "3.11.4"
  }
 },
 "nbformat": 4,
 "nbformat_minor": 2
}
